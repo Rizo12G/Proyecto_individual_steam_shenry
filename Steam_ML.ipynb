{
 "cells": [
  {
   "cell_type": "markdown",
   "metadata": {},
   "source": [
    "# importar librerias "
   ]
  },
  {
   "cell_type": "code",
   "execution_count": 179,
   "metadata": {},
   "outputs": [],
   "source": [
    "import numpy as np \n",
    "import pandas as pd \n",
    "from sklearn.preprocessing import StandardScaler\n",
    "from sklearn.metrics.pairwise import cosine_similarity\n"
   ]
  },
  {
   "cell_type": "code",
   "execution_count": 180,
   "metadata": {},
   "outputs": [],
   "source": [
    "df_genres = pd.read_parquet('./data_clean_EDA/df_dummies.parquet')\n",
    "df_games = pd.read_parquet('./data_clean_EDA/df_games_ML.parquet')"
   ]
  },
  {
   "cell_type": "code",
   "execution_count": 181,
   "metadata": {},
   "outputs": [],
   "source": [
    "# Función para normalizar la columna 'release_date' usando StandardScaler\n",
    "def normalizar_release_date(df, columna):\n",
    "    scaler = StandardScaler()\n",
    "    df[columna] = scaler.fit_transform(df[[columna]])\n",
    "    return df"
   ]
  },
  {
   "cell_type": "code",
   "execution_count": 182,
   "metadata": {},
   "outputs": [],
   "source": [
    "# Función para fusionar los DataFrames 'df_games' y 'df_genres' en 'df_merged'\n",
    "def fusionar_dataframes(df1, df2, key, cols_a_incluir):\n",
    "    df_merged = df1.merge(df2, on=key, how='left')\n",
    "    df_final = df_merged[['id'] + cols_a_incluir]\n",
    "    return df_final"
   ]
  },
  {
   "cell_type": "code",
   "execution_count": 183,
   "metadata": {},
   "outputs": [],
   "source": [
    "# Función para muestrear un subconjunto de datos\n",
    "def muestrear_datos(df, fraccion, estado_aleatorio):\n",
    "    return df.sample(frac=fraccion, random_state=estado_aleatorio)"
   ]
  },
  {
   "cell_type": "code",
   "execution_count": 184,
   "metadata": {},
   "outputs": [],
   "source": [
    "# Función para calcular la matriz de similitud del coseno\n",
    "def calcular_similitud(df, features):\n",
    "    matriz_similitud = cosine_similarity(df[features].fillna(0))\n",
    "    return np.nan_to_num(matriz_similitud)"
   ]
  },
  {
   "cell_type": "code",
   "execution_count": 185,
   "metadata": {},
   "outputs": [],
   "source": [
    "# Función para recomendar juegos basados en la similitud del coseno\n",
    "def recomendacion_juego(df_sampled, similarity_matrix, game_id, top_n=5):\n",
    "    ids_juegos_muestreados = df_sampled['id'].unique()\n",
    "    \n",
    "    if game_id not in ids_juegos_muestreados:\n",
    "        return f\"No se encontraron recomendaciones: {game_id} no está en los datos muestreados.\"\n",
    "    \n",
    "    indice_juego = df_sampled.index[df_sampled['id'] == game_id].tolist()\n",
    "    \n",
    "    if not indice_juego:\n",
    "        return f\"No se encontraron recomendaciones: {game_id} no está en los datos muestreados.\"\n",
    "    \n",
    "    indice_juego = indice_juego[0]\n",
    "    \n",
    "    puntajes_similitud = list(enumerate(similarity_matrix[indice_juego]))\n",
    "    puntajes_similitud = sorted(puntajes_similitud, key=lambda x: x[1], reverse=True)\n",
    "\n",
    "    indices_juegos_similares = [i for i, puntaje in puntajes_similitud[1:top_n+1]]\n",
    "    \n",
    "    nombres_juegos_similares = df_sampled['app_name'].iloc[indices_juegos_similares].tolist()\n",
    "    \n",
    "    mensaje_recomendacion = f\"Juegos recomendados basados en el ID del juego {game_id} - {df_sampled['app_name'].iloc[indice_juego]}:\"\n",
    "    \n",
    "    return [mensaje_recomendacion] + nombres_juegos_similares"
   ]
  },
  {
   "cell_type": "code",
   "execution_count": 186,
   "metadata": {},
   "outputs": [],
   "source": [
    "# Simulación del proceso completo\n",
    "def proceso_recomendacion(df_games, df_genres, game_id, top_n=5):\n",
    "    # Lista de columnas a incluir\n",
    "    features = ['release_date'] + list(df_genres.columns[1:])\n",
    "    \n",
    "    # Normalizar 'release_date' en df_games\n",
    "    df_games = normalizar_release_date(df_games, 'release_date')\n",
    "\n",
    "    # Fusionar DataFrames y seleccionar columnas\n",
    "    df_merged = fusionar_dataframes(df_games, df_genres, key='id', cols_a_incluir=features)\n",
    "\n",
    "    # Agregar columna 'app_name'\n",
    "    df_final = df_merged.merge(df_games[['id', 'app_name']], on='id', how='left')\n",
    "\n",
    "    # Muestrear los datos (20%)\n",
    "    df_sampled = muestrear_datos(df_final, fraccion=0.2, estado_aleatorio=42)\n",
    "\n",
    "    # Calcular la matriz de similitud del coseno\n",
    "    similarity_matrix = calcular_similitud(df_sampled, features)\n",
    "\n",
    "    # Obtener recomendaciones\n",
    "    recomendaciones = recomendacion_juego(df_sampled, similarity_matrix, game_id, top_n)\n",
    "    \n",
    "    return recomendaciones"
   ]
  },
  {
   "cell_type": "code",
   "execution_count": 197,
   "metadata": {},
   "outputs": [
    {
     "name": "stdout",
     "output_type": "stream",
     "text": [
      "Recomendaciones para ID de juego 774276:\n",
      "Juegos recomendados basados en el ID del juego 774276 - Imhotep, Pyramid Builder:\n",
      "TS Marketplace: Feather River Canyon Scenario Pack 01\n",
      "FSX: Steam Edition - Grumman HU-16B Albatross Add-On\n",
      "TANE DLC: Newcastle Shunter\n",
      "FSX Steam Edition: Endelave Airport Add-On\n",
      "FSX: Steam Edition - Nordborg Airfield Add-On\n"
     ]
    }
   ],
   "source": [
    "test_game_id = \"774276\"\n",
    "recomendaciones = proceso_recomendacion(df_games, df_genres, test_game_id, top_n=5)\n",
    "\n",
    "# Imprimir las recomendaciones\n",
    "print(f\"Recomendaciones para ID de juego {test_game_id}:\")\n",
    "for rec in recomendaciones:\n",
    "    print(rec)"
   ]
  }
 ],
 "metadata": {
  "kernelspec": {
   "display_name": "Python 3",
   "language": "python",
   "name": "python3"
  },
  "language_info": {
   "codemirror_mode": {
    "name": "ipython",
    "version": 3
   },
   "file_extension": ".py",
   "mimetype": "text/x-python",
   "name": "python",
   "nbconvert_exporter": "python",
   "pygments_lexer": "ipython3",
   "version": "3.11.9"
  }
 },
 "nbformat": 4,
 "nbformat_minor": 2
}
