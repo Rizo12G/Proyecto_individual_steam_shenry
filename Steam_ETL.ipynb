{
 "cells": [
  {
   "cell_type": "markdown",
   "metadata": {},
   "source": [
    "# Importar librerias "
   ]
  },
  {
   "cell_type": "code",
   "execution_count": 4,
   "metadata": {},
   "outputs": [],
   "source": [
    "import pandas as pd\n",
    "from pandas import json_normalize\n",
    "import numpy as np\n",
    "import json as js\n",
    "import ast as ast\n",
    "import re\n",
    "from vaderSentiment.vaderSentiment import SentimentIntensityAnalyzer # NLP"
   ]
  },
  {
   "cell_type": "markdown",
   "metadata": {},
   "source": [
    "# Lectura de Datasets"
   ]
  },
  {
   "cell_type": "code",
   "execution_count": 5,
   "metadata": {},
   "outputs": [],
   "source": [
    "# GAMES \n",
    "df_games = pd.read_json('./json/output_steam_games.json',lines=True)\n",
    "\n",
    "# REVIEWS\n",
    "rev = []\n",
    "archivo1 = r'./json/australian_user_reviews.json'\n",
    "with open(archivo1, encoding='utf-8') as file:\n",
    "    for line in file.readlines():\n",
    "        rev.append(ast.literal_eval(line))\n",
    "\n",
    "df_reviews = pd.DataFrame(rev)\n",
    "df_reviews = df_reviews.explode('reviews')\n",
    "\n",
    "#ITEMS\n",
    "items = []\n",
    "archivo2 = r'./json/australian_users_items.json'\n",
    "with open(archivo2, encoding='utf-8') as file2:\n",
    "    for line2 in file2.readlines():\n",
    "        items.append(ast.literal_eval(line2))\n",
    "\n",
    "df_items = pd.DataFrame(items)\n",
    "df_items = df_items.explode('items')"
   ]
  },
  {
   "cell_type": "markdown",
   "metadata": {},
   "source": [
    "# Limpieza de datos"
   ]
  },
  {
   "cell_type": "markdown",
   "metadata": {},
   "source": [
    "# GAMES"
   ]
  },
  {
   "cell_type": "code",
   "execution_count": 7,
   "metadata": {},
   "outputs": [],
   "source": [
    "#correccion de datos en precio\n",
    "mask =df_games['price'].apply(lambda x: isinstance(x,str))\n",
    "df_games.loc[mask,'price'] =0.00\n",
    "df_games['price'] = pd.to_numeric(df_games['price'], errors='coerce')\n",
    "\n",
    "#cambiamos tipo de datos \n",
    "df_games['early_access'] = df_games['early_access'].fillna(0).astype(int) # borramos valores nulos para cambiar dato\n",
    "df_games['early_access'] = df_games['early_access'].astype(int)\n",
    "\n",
    "#corregimos datos dentro de la columna \"release_date\"\n",
    "def conver_fecha(fecha):\n",
    "    # Lista de formatos de fecha comunes para intentar\n",
    "    for fmt in ['%d %Y', '%b %Y', '%Y-%m-%d', '%Y']:\n",
    "        try:\n",
    "            # Intentar convertir la fecha según el formato actual\n",
    "            return pd.to_datetime(fecha, format=fmt)\n",
    "        except ValueError:\n",
    "            # Si el formato no coincide, continuar con el siguiente\n",
    "            continue\n",
    "\n",
    "    # Si ninguno de los formatos funciona, usar regex para buscar un año de 4 dígitos\n",
    "    match = re.search(r'\\b(\\d{4})\\b', fecha)\n",
    "    if match:\n",
    "        # Si se encuentra un año, convertirlo a tipo datetime usando el formato '%Y'\n",
    "        return pd.to_datetime(match.group(1), format='%Y')\n",
    "\n",
    "    # Si no se puede convertir la fecha, devolver NaT (Not a Time)\n",
    "    return pd.NaT\n",
    "\n",
    "# Aplicar la función a la columna 'release_date' del DataFrame\n",
    "#df_games['release_date'] = df_games['release_date'].apply(conver_fecha)\n"
   ]
  },
  {
   "cell_type": "markdown",
   "metadata": {},
   "source": [
    "# REVIEWS "
   ]
  },
  {
   "cell_type": "code",
   "execution_count": 2,
   "metadata": {},
   "outputs": [
    {
     "ename": "NameError",
     "evalue": "name 'pd' is not defined",
     "output_type": "error",
     "traceback": [
      "\u001b[1;31m---------------------------------------------------------------------------\u001b[0m",
      "\u001b[1;31mNameError\u001b[0m                                 Traceback (most recent call last)",
      "Cell \u001b[1;32mIn[2], line 1\u001b[0m\n\u001b[1;32m----> 1\u001b[0m df_reviews_flat \u001b[38;5;241m=\u001b[39m \u001b[43mpd\u001b[49m\u001b[38;5;241m.\u001b[39mjson_normalize(df_reviews[\u001b[38;5;124m'\u001b[39m\u001b[38;5;124mreviews\u001b[39m\u001b[38;5;124m'\u001b[39m]) \u001b[38;5;66;03m# desanida la columna reviews \u001b[39;00m\n\u001b[0;32m      3\u001b[0m df_reviews \u001b[38;5;241m=\u001b[39m pd\u001b[38;5;241m.\u001b[39mconcat([df_reviews\u001b[38;5;241m.\u001b[39mdrop(columns\u001b[38;5;241m=\u001b[39m[\u001b[38;5;124m'\u001b[39m\u001b[38;5;124mreviews\u001b[39m\u001b[38;5;124m'\u001b[39m])\u001b[38;5;241m.\u001b[39mreset_index(drop\u001b[38;5;241m=\u001b[39m\u001b[38;5;28;01mTrue\u001b[39;00m), df_reviews_flat], axis\u001b[38;5;241m=\u001b[39m\u001b[38;5;241m1\u001b[39m)\n\u001b[0;32m      4\u001b[0m \u001b[38;5;66;03m#                     elimina la columna original / reseta el indice / une los datasets\u001b[39;00m\n",
      "\u001b[1;31mNameError\u001b[0m: name 'pd' is not defined"
     ]
    }
   ],
   "source": [
    "df_reviews_flat = pd.json_normalize(df_reviews['reviews']) # desanida la columna reviews \n",
    "\n",
    "df_reviews = pd.concat([df_reviews.drop(columns=['reviews']).reset_index(drop=True), df_reviews_flat], axis=1)\n",
    "#                     elimina la columna original / reseta el indice / une los datasets\n",
    "\n",
    "df_reviews = df_reviews.replace('', None) # Reemplaza los valores vacios \n",
    "\n",
    "\n",
    "df_reviews = df_reviews.drop_duplicates() # borramos datos duplicados\n",
    "f_reviews = df_reviews.dropna()#eliminamos nulos \n",
    "\n",
    "\n",
    "#cambiamos tipo de datos\n",
    "# df_reviews['posted'] = pd.to_datetime(df_reviews['posted'], errors='coerce')\n",
    "df_reviews['funny'] = pd.to_numeric(df_reviews['funny'], errors='coerce').fillna(0).astype(int)\n",
    "df_reviews['recommend'] = pd.to_numeric(df_reviews['recommend'], errors='coerce').fillna(0).astype(int)"
   ]
  },
  {
   "cell_type": "code",
   "execution_count": 1,
   "metadata": {},
   "outputs": [
    {
     "ename": "NameError",
     "evalue": "name 'df_items' is not defined",
     "output_type": "error",
     "traceback": [
      "\u001b[1;31m---------------------------------------------------------------------------\u001b[0m",
      "\u001b[1;31mNameError\u001b[0m                                 Traceback (most recent call last)",
      "Cell \u001b[1;32mIn[1], line 1\u001b[0m\n\u001b[1;32m----> 1\u001b[0m \u001b[43mdf_items\u001b[49m\u001b[38;5;241m.\u001b[39mhead()\n",
      "\u001b[1;31mNameError\u001b[0m: name 'df_items' is not defined"
     ]
    }
   ],
   "source": [
    "df_items.head()"
   ]
  },
  {
   "cell_type": "markdown",
   "metadata": {},
   "source": [
    "__*Analisis de sentimiento NLP*__"
   ]
  },
  {
   "cell_type": "code",
   "execution_count": 6,
   "metadata": {},
   "outputs": [],
   "source": [
    "analyzer = SentimentIntensityAnalyzer()\n",
    "\n",
    "def sentiment_score(review):\n",
    "    sentimento = analyzer.polarity_scores(review) # Calcula los puntajes de sentimiento\n",
    "    score = sentimento['compound']  # determinar si la reseña es negativa, neutral o positiva.\n",
    "    if score <= -0.05:\n",
    "        return 0  # Negativa\n",
    "    elif score >= 0.05:\n",
    "        return 2  # Positivo\n",
    "    else:\n",
    "        return 1  # Neutral\n",
    "    \n",
    "# Aplicamos la funcion\n",
    "df_reviews['sentiment_analysis'] = df_reviews['review'].apply(lambda x: sentiment_score(x) if pd.notnull(x) else 1)\n",
    "\n",
    "df_reviews = df_reviews.drop(columns=['review'])\n"
   ]
  },
  {
   "cell_type": "markdown",
   "metadata": {},
   "source": [
    "__*lambda x: sentiment_score(x) if pd.notnull(x) else 1:*__ asegura que solo se aplique 'sentiment_score' a reseñas que no son nulas <br>\n",
    "\n",
    "__*(pd.notnull(x)).*__ Si la reseña es nula, se asigna directamente el valor 1 (neutral) <br>\n",
    "\n",
    "El resultado de esta operación se almacena en una nueva columna llamada sentiment_analysis, que contendrá los valores de sentimiento (0, 1 o 2) para cada reseña."
   ]
  },
  {
   "cell_type": "markdown",
   "metadata": {},
   "source": [
    "# ITEMS"
   ]
  },
  {
   "cell_type": "code",
   "execution_count": 6,
   "metadata": {},
   "outputs": [],
   "source": [
    "df_items_flat = pd.json_normalize(df_items['items']) # desanida la columna reviews\n",
    "\n",
    "\n",
    "\n",
    "df_items = pd.concat([df_items.drop(columns=['items']).reset_index(drop=True), df_items_flat], axis=1)\n",
    "#                    elimina la columna original / reseta el indice / une los datasets\n",
    "\n",
    "df_items = df_items.replace('', None) # Reemplaza los valores vacios a none\n"
   ]
  },
  {
   "cell_type": "markdown",
   "metadata": {},
   "source": [
    "# Guardamos como nuevo dataset "
   ]
  },
  {
   "cell_type": "code",
   "execution_count": 7,
   "metadata": {},
   "outputs": [],
   "source": [
    "df_games.to_json('./data_clean/cleaned_output_steam_games.json', orient='records', lines=True)\n",
    "df_reviews.to_json('./data_clean/cleaned_user_reviews.json', orient='records', lines=True)\n",
    "df_items.to_json('./data_clean/cleaned_australian_users_items.json', orient='records', lines=True)"
   ]
  }
 ],
 "metadata": {
  "kernelspec": {
   "display_name": "Python 3",
   "language": "python",
   "name": "python3"
  },
  "language_info": {
   "codemirror_mode": {
    "name": "ipython",
    "version": 3
   },
   "file_extension": ".py",
   "mimetype": "text/x-python",
   "name": "python",
   "nbconvert_exporter": "python",
   "pygments_lexer": "ipython3",
   "version": "3.11.9"
  }
 },
 "nbformat": 4,
 "nbformat_minor": 2
}
