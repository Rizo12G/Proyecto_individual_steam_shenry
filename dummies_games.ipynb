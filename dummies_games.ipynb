{
 "cells": [
  {
   "cell_type": "code",
   "execution_count": 20,
   "metadata": {},
   "outputs": [],
   "source": [
    "import pandas as pd \n",
    "import ast as ast\n",
    "import re"
   ]
  },
  {
   "cell_type": "code",
   "execution_count": 21,
   "metadata": {},
   "outputs": [],
   "source": [
    "df_games = pd.read_parquet('./data_clean_EDA/steam_games.parquet')"
   ]
  },
  {
   "cell_type": "code",
   "execution_count": 22,
   "metadata": {},
   "outputs": [],
   "source": [
    "\n",
    "df_games = df_games.drop(columns=['publisher', 'title','tags', 'url', 'reviews_url', 'specs', 'early_access'])"
   ]
  },
  {
   "cell_type": "code",
   "execution_count": 23,
   "metadata": {},
   "outputs": [],
   "source": [
    "# Asegurarse de que 'genres' es una cadena\n",
    "df_games['genres'] = df_games['genres'].astype(str)\n",
    "\n",
    "# Función para eliminar \"Free to Play\" de los géneros\n",
    "def eliminar_free_to_play(generos):\n",
    "    # Usar una expresión regular para separar los géneros por palabras en mayúscula\n",
    "    lista_generos = re.findall(r'[A-Z][a-z]*', generos)  # Encuentra palabras que comienzan con mayúscula\n",
    "    # Eliminar \"Free to Play\" si está presente\n",
    "    lista_generos = [g for g in lista_generos if g != \"Free\" and g != \"Play\"]\n",
    "    # Convertir de nuevo a cadena y devolver\n",
    "    return ', '.join(lista_generos) if lista_generos else None\n",
    "\n",
    "# Aplicar la función a la columna 'genres'\n",
    "df_games['genres'] = df_games['genres'].apply(eliminar_free_to_play)\n",
    "\n",
    "# Extraer el primer género\n",
    "df_games['genres'] = df_games['genres'].str.split(', ').str[0]\n",
    "df_games['id'] = df_games['id'].astype(str)\n"
   ]
  },
  {
   "cell_type": "code",
   "execution_count": 24,
   "metadata": {},
   "outputs": [
    {
     "name": "stdout",
     "output_type": "stream",
     "text": [
      "<class 'pandas.core.frame.DataFrame'>\n",
      "RangeIndex: 32135 entries, 0 to 32134\n",
      "Data columns (total 6 columns):\n",
      " #   Column        Non-Null Count  Dtype  \n",
      "---  ------        --------------  -----  \n",
      " 0   genres        32115 non-null  object \n",
      " 1   app_name      32133 non-null  object \n",
      " 2   release_date  30068 non-null  object \n",
      " 3   price         30758 non-null  float64\n",
      " 4   id            32135 non-null  object \n",
      " 5   developer     28836 non-null  object \n",
      "dtypes: float64(1), object(5)\n",
      "memory usage: 1.5+ MB\n"
     ]
    }
   ],
   "source": [
    "df_games.info()"
   ]
  },
  {
   "cell_type": "code",
   "execution_count": 26,
   "metadata": {},
   "outputs": [],
   "source": [
    "# divide generos \n",
    "genres_dummies = (\n",
    "    df_games['genres'].explode()\n",
    "    .str.get_dummies()\n",
    "    .groupby(level=0)\n",
    "    .sum()\n",
    "    .reset_index(drop=True)\n",
    ")\n",
    "\n",
    "df_generos = pd.concat([df_games[['id']], genres_dummies], axis=1)\n",
    "keep_cols = df_generos.columns[~df_generos.columns.str.contains('&amp;', case=False)]\n",
    "df_generos = df_generos[keep_cols]\n",
    "df_generos.columns = pd.unique(df_generos.columns)\n",
    "df_generos['id'] = df_generos['id'].astype(str)"
   ]
  },
  {
   "cell_type": "markdown",
   "metadata": {},
   "source": [
    "__Guardaremos los datas ya trabajados para el modelo de recomendacion__"
   ]
  },
  {
   "cell_type": "code",
   "execution_count": 27,
   "metadata": {},
   "outputs": [],
   "source": [
    "df_generos.to_parquet('./data_clean_EDA/df_dummies.parquet', index=False)"
   ]
  },
  {
   "cell_type": "code",
   "execution_count": 25,
   "metadata": {},
   "outputs": [],
   "source": [
    "df_games.to_parquet('./data_clean_EDA/df_games_ML.parquet', index=False)"
   ]
  }
 ],
 "metadata": {
  "kernelspec": {
   "display_name": "Python 3",
   "language": "python",
   "name": "python3"
  },
  "language_info": {
   "codemirror_mode": {
    "name": "ipython",
    "version": 3
   },
   "file_extension": ".py",
   "mimetype": "text/x-python",
   "name": "python",
   "nbconvert_exporter": "python",
   "pygments_lexer": "ipython3",
   "version": "3.11.9"
  }
 },
 "nbformat": 4,
 "nbformat_minor": 2
}
